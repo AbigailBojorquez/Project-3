{
 "cells": [
  {
   "cell_type": "markdown",
   "id": "f1521238",
   "metadata": {},
   "source": [
    "Exploratory Data Analysis"
   ]
  },
  {
   "cell_type": "code",
   "execution_count": 2,
   "id": "0e3e9ce1",
   "metadata": {},
   "outputs": [],
   "source": [
    "# imports\n",
    "import pandas as pd\n",
    "import numpy as np\n",
    "import seaborn as sns\n",
    "import matplotlib.pyplot as plt"
   ]
  },
  {
   "cell_type": "code",
   "execution_count": 5,
   "id": "2645f370",
   "metadata": {},
   "outputs": [],
   "source": [
    "df1 = pd.read_csv('Data/final_tmdb_data_2001.csv.gz')\n",
    "df2 = pd.read_csv('Data/final_tmdb_data_2000.csv.gz')\n",
    "# concat 2000/2001\n",
    "df = pd.concat((df1, df2), axis = 0)"
   ]
  },
  {
   "cell_type": "code",
   "execution_count": 6,
   "id": "40ad8e82",
   "metadata": {},
   "outputs": [],
   "source": [
    "budget_filter = df['budget'] > 0 \n",
    "revenue_filter = df['revenue'] > 0\n",
    "df = df.loc[budget_filter | revenue_filter]"
   ]
  },
  {
   "cell_type": "code",
   "execution_count": 9,
   "id": "19476c60",
   "metadata": {},
   "outputs": [
    {
     "name": "stdout",
     "output_type": "stream",
     "text": [
      "<class 'pandas.core.frame.DataFrame'>\n",
      "Int64Index: 625 entries, 1 to 1214\n",
      "Data columns (total 26 columns):\n",
      " #   Column                 Non-Null Count  Dtype  \n",
      "---  ------                 --------------  -----  \n",
      " 0   imdb_id                625 non-null    object \n",
      " 1   adult                  625 non-null    float64\n",
      " 2   backdrop_path          530 non-null    object \n",
      " 3   belongs_to_collection  105 non-null    object \n",
      " 4   budget                 625 non-null    float64\n",
      " 5   genres                 625 non-null    object \n",
      " 6   homepage               77 non-null     object \n",
      " 7   id                     625 non-null    float64\n",
      " 8   original_language      625 non-null    object \n",
      " 9   original_title         625 non-null    object \n",
      " 10  overview               623 non-null    object \n",
      " 11  popularity             625 non-null    float64\n",
      " 12  poster_path            603 non-null    object \n",
      " 13  production_companies   625 non-null    object \n",
      " 14  production_countries   625 non-null    object \n",
      " 15  release_date           625 non-null    object \n",
      " 16  revenue                625 non-null    float64\n",
      " 17  runtime                625 non-null    float64\n",
      " 18  spoken_languages       625 non-null    object \n",
      " 19  status                 625 non-null    object \n",
      " 20  tagline                488 non-null    object \n",
      " 21  title                  625 non-null    object \n",
      " 22  video                  625 non-null    float64\n",
      " 23  vote_average           625 non-null    float64\n",
      " 24  vote_count             625 non-null    float64\n",
      " 25  certification          426 non-null    object \n",
      "dtypes: float64(9), object(17)\n",
      "memory usage: 131.8+ KB\n"
     ]
    }
   ],
   "source": [
    "#Exploring data\n",
    "df.info()"
   ]
  },
  {
   "cell_type": "code",
   "execution_count": null,
   "id": "5d6dece7",
   "metadata": {},
   "outputs": [],
   "source": []
  }
 ],
 "metadata": {
  "kernelspec": {
   "display_name": "Python (dojo-env)",
   "language": "python",
   "name": "dojo-env"
  },
  "language_info": {
   "codemirror_mode": {
    "name": "ipython",
    "version": 3
   },
   "file_extension": ".py",
   "mimetype": "text/x-python",
   "name": "python",
   "nbconvert_exporter": "python",
   "pygments_lexer": "ipython3",
   "version": "3.8.13"
  },
  "toc": {
   "base_numbering": 1,
   "nav_menu": {},
   "number_sections": false,
   "sideBar": true,
   "skip_h1_title": false,
   "title_cell": "Table of Contents",
   "title_sidebar": "Contents",
   "toc_cell": false,
   "toc_position": {},
   "toc_section_display": true,
   "toc_window_display": false
  }
 },
 "nbformat": 4,
 "nbformat_minor": 5
}
