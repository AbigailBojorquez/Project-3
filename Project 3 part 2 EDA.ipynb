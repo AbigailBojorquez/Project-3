{
 "cells": [
  {
   "cell_type": "markdown",
   "id": "f1521238",
   "metadata": {},
   "source": [
    "## Exploratory Data Analysis\n",
    "\n",
    "- Load in your csv.gz's of results for each year extracted.\n",
    "    1. Concatenate the data into 1 dataframe for the remainder of the analysis.\n",
    "- Once you have your data from the API, they would like you to perform some light EDA to show:\n",
    "    1. How many movies had at least some valid financial information (values > 0 for budget OR revenue)?\n",
    "        - Please exclude any movies with 0's for budget AND revenue from the remaining visualizations.\n",
    "    2. How many movies are there in each of the certification categories (G/PG/PG-13/R)?\n",
    "    3. What is the average revenue per certification category?\n",
    "    4. What is the average budget per certification category?"
   ]
  },
  {
   "cell_type": "code",
   "execution_count": 1,
   "id": "0e3e9ce1",
   "metadata": {},
   "outputs": [],
   "source": [
    "# imports\n",
    "import pandas as pd\n",
    "import numpy as np\n",
    "import seaborn as sns\n",
    "import matplotlib.pyplot as plt"
   ]
  },
  {
   "cell_type": "code",
   "execution_count": 2,
   "id": "2645f370",
   "metadata": {},
   "outputs": [],
   "source": [
    "df1 = pd.read_csv('Data/final_tmdb_data_2001.csv.gz')\n",
    "df2 = pd.read_csv('Data/final_tmdb_data_2000.csv.gz')\n",
    "# concat 2000/2001\n",
    "df_c = pd.concat((df1, df2), axis = 0)"
   ]
  },
  {
   "cell_type": "code",
   "execution_count": 3,
   "id": "43e85262",
   "metadata": {},
   "outputs": [],
   "source": [
    "df_d = df_c.drop_duplicates()"
   ]
  },
  {
   "cell_type": "code",
   "execution_count": 4,
   "id": "fbb7f34f",
   "metadata": {},
   "outputs": [],
   "source": [
    "df = df_d.loc[(df_d['budget'] != 0) | (df_d['revenue'] != 0)]"
   ]
  },
  {
   "cell_type": "code",
   "execution_count": 5,
   "id": "19476c60",
   "metadata": {},
   "outputs": [
    {
     "name": "stdout",
     "output_type": "stream",
     "text": [
      "<class 'pandas.core.frame.DataFrame'>\n",
      "Int64Index: 626 entries, 0 to 1214\n",
      "Data columns (total 26 columns):\n",
      " #   Column                 Non-Null Count  Dtype  \n",
      "---  ------                 --------------  -----  \n",
      " 0   imdb_id                626 non-null    object \n",
      " 1   adult                  625 non-null    float64\n",
      " 2   backdrop_path          530 non-null    object \n",
      " 3   belongs_to_collection  105 non-null    object \n",
      " 4   budget                 625 non-null    float64\n",
      " 5   genres                 625 non-null    object \n",
      " 6   homepage               77 non-null     object \n",
      " 7   id                     625 non-null    float64\n",
      " 8   original_language      625 non-null    object \n",
      " 9   original_title         625 non-null    object \n",
      " 10  overview               623 non-null    object \n",
      " 11  popularity             625 non-null    float64\n",
      " 12  poster_path            603 non-null    object \n",
      " 13  production_companies   625 non-null    object \n",
      " 14  production_countries   625 non-null    object \n",
      " 15  release_date           625 non-null    object \n",
      " 16  revenue                625 non-null    float64\n",
      " 17  runtime                625 non-null    float64\n",
      " 18  spoken_languages       625 non-null    object \n",
      " 19  status                 625 non-null    object \n",
      " 20  tagline                488 non-null    object \n",
      " 21  title                  625 non-null    object \n",
      " 22  video                  625 non-null    float64\n",
      " 23  vote_average           625 non-null    float64\n",
      " 24  vote_count             625 non-null    float64\n",
      " 25  certification          426 non-null    object \n",
      "dtypes: float64(9), object(17)\n",
      "memory usage: 132.0+ KB\n"
     ]
    }
   ],
   "source": [
    "#Exploring data\n",
    "df.info()"
   ]
  },
  {
   "cell_type": "code",
   "execution_count": 6,
   "id": "203b4119",
   "metadata": {},
   "outputs": [
    {
     "name": "stdout",
     "output_type": "stream",
     "text": [
      "Number of movies with valid financial information:  626\n"
     ]
    }
   ],
   "source": [
    "# Count the number of movies that have valid financial information\n",
    "valid_movies = df.shape[0]\n",
    "print(\"Number of movies with valid financial information: \", valid_movies)"
   ]
  },
  {
   "cell_type": "code",
   "execution_count": 7,
   "id": "117feff5",
   "metadata": {},
   "outputs": [
    {
     "name": "stdout",
     "output_type": "stream",
     "text": [
      "  certification  counts\n",
      "0             G      14\n",
      "1            NR      17\n",
      "2            PG      35\n",
      "3         PG-13     131\n",
      "4             R     229\n"
     ]
    }
   ],
   "source": [
    "# Count the number of movies in each certification category\n",
    "certification_count = df.groupby('certification').size().reset_index(name='counts')\n",
    "print(certification_count)"
   ]
  },
  {
   "cell_type": "code",
   "execution_count": 8,
   "id": "f272a91a",
   "metadata": {},
   "outputs": [
    {
     "name": "stdout",
     "output_type": "stream",
     "text": [
      "  certification  average_revenue\n",
      "0             G     1.237463e+08\n",
      "1            NR     8.887611e+06\n",
      "2            PG     1.126496e+08\n",
      "3         PG-13     9.926299e+07\n",
      "4             R     3.321119e+07\n"
     ]
    }
   ],
   "source": [
    "# Calculate the average revenue per certification category\n",
    "average_revenue = df.groupby('certification')['revenue'].mean().reset_index(name='average_revenue')\n",
    "print(average_revenue)"
   ]
  },
  {
   "cell_type": "code",
   "execution_count": 9,
   "id": "a722fc01",
   "metadata": {},
   "outputs": [
    {
     "data": {
      "image/png": "[encoded data removed]",
      "text/plain": [
       "<Figure size 640x480 with 1 Axes>"
      ]
     },
     "metadata": {},
     "output_type": "display_data"
    }
   ],
   "source": [
    "# Create a bar chart of average revenue per certification category\n",
    "sns.barplot(x='certification', y='average_revenue', data=average_revenue)\n",
    "plt.xlabel('Certification')\n",
    "plt.ylabel('Average Revenue')\n",
    "plt.title('Average Revenue per Certification Category')\n",
    "plt.show()"
   ]
  },
  {
   "cell_type": "code",
   "execution_count": 10,
   "id": "a6e2b89b",
   "metadata": {},
   "outputs": [
    {
     "name": "stdout",
     "output_type": "stream",
     "text": [
      "  certification  average_budget\n",
      "0             G    4.085714e+07\n",
      "1            NR    6.302358e+06\n",
      "2            PG    4.496429e+07\n",
      "3         PG-13    4.315388e+07\n",
      "4             R    1.974674e+07\n"
     ]
    }
   ],
   "source": [
    "# Calculate the average budget per certification category\n",
    "average_budget = df.groupby('certification')['budget'].mean().reset_index(name='average_budget')\n",
    "print(average_budget)"
   ]
  },
  {
   "cell_type": "code",
   "execution_count": 11,
   "id": "410fb1fa",
   "metadata": {},
   "outputs": [
    {
     "data": {
      "image/png": "[encoded data removed]",
      "text/plain": [
       "<Figure size 640x480 with 1 Axes>"
      ]
     },
     "metadata": {},
     "output_type": "display_data"
    }
   ],
   "source": [
    "# Create a bar chart of average budget per certification category\n",
    "sns.barplot(x='certification', y='average_budget', data=average_budget)\n",
    "plt.xlabel('Certification')\n",
    "plt.ylabel('Average Budget')\n",
    "plt.title('Average Budget per Certification Category')\n",
    "plt.show()"
   ]
  },
  {
   "cell_type": "code",
   "execution_count": 12,
   "id": "357a2ddd",
   "metadata": {},
   "outputs": [
    {
     "data": {
      "image/png": "[encoded data removed]",
      "text/plain": [
       "<Figure size 640x480 with 1 Axes>"
      ]
     },
     "metadata": {},
     "output_type": "display_data"
    }
   ],
   "source": [
    "# Create a bar chart of average budget per certification category\n",
    "sns.barplot(x='certification', y='average_budget', data=average_budget)\n",
    "plt.xlabel('Certification')\n",
    "plt.ylabel('Average Budget')\n",
    "plt.title('Average Budget per Certification Category')\n",
    "plt.show()"
   ]
  },
  {
   "cell_type": "code",
   "execution_count": 13,
   "id": "a4d0a319",
   "metadata": {},
   "outputs": [],
   "source": [
    "# save merged df \n",
    "df.to_csv(\"Data/tmdb_results_combined.csv.gz\",compression='gzip',index=False)"
   ]
  },
  {
   "cell_type": "code",
   "execution_count": 14,
   "id": "1181b782",
   "metadata": {},
   "outputs": [
    {
     "name": "stdout",
     "output_type": "stream",
     "text": [
      "<class 'pandas.core.frame.DataFrame'>\n",
      "RangeIndex: 626 entries, 0 to 625\n",
      "Data columns (total 26 columns):\n",
      " #   Column                 Non-Null Count  Dtype  \n",
      "---  ------                 --------------  -----  \n",
      " 0   imdb_id                626 non-null    object \n",
      " 1   adult                  625 non-null    float64\n",
      " 2   backdrop_path          530 non-null    object \n",
      " 3   belongs_to_collection  105 non-null    object \n",
      " 4   budget                 625 non-null    float64\n",
      " 5   genres                 625 non-null    object \n",
      " 6   homepage               77 non-null     object \n",
      " 7   id                     625 non-null    float64\n",
      " 8   original_language      625 non-null    object \n",
      " 9   original_title         625 non-null    object \n",
      " 10  overview               623 non-null    object \n",
      " 11  popularity             625 non-null    float64\n",
      " 12  poster_path            603 non-null    object \n",
      " 13  production_companies   625 non-null    object \n",
      " 14  production_countries   625 non-null    object \n",
      " 15  release_date           625 non-null    object \n",
      " 16  revenue                625 non-null    float64\n",
      " 17  runtime                625 non-null    float64\n",
      " 18  spoken_languages       625 non-null    object \n",
      " 19  status                 625 non-null    object \n",
      " 20  tagline                488 non-null    object \n",
      " 21  title                  625 non-null    object \n",
      " 22  video                  625 non-null    float64\n",
      " 23  vote_average           625 non-null    float64\n",
      " 24  vote_count             625 non-null    float64\n",
      " 25  certification          426 non-null    object \n",
      "dtypes: float64(9), object(17)\n",
      "memory usage: 127.3+ KB\n"
     ]
    },
    {
     "data": {
      "text/html": [
       "<div>\n",
       "<style scoped>\n",
       "    .dataframe tbody tr th:only-of-type {\n",
       "        vertical-align: middle;\n",
       "    }\n",
       "\n",
       "    .dataframe tbody tr th {\n",
       "        vertical-align: top;\n",
       "    }\n",
       "\n",
       "    .dataframe thead th {\n",
       "        text-align: right;\n",
       "    }\n",
       "</style>\n",
       "<table border=\"1\" class=\"dataframe\">\n",
       "  <thead>\n",
       "    <tr style=\"text-align: right;\">\n",
       "      <th></th>\n",
       "      <th>imdb_id</th>\n",
       "      <th>adult</th>\n",
       "      <th>backdrop_path</th>\n",
       "      <th>belongs_to_collection</th>\n",
       "      <th>budget</th>\n",
       "      <th>genres</th>\n",
       "      <th>homepage</th>\n",
       "      <th>id</th>\n",
       "      <th>original_language</th>\n",
       "      <th>original_title</th>\n",
       "      <th>...</th>\n",
       "      <th>revenue</th>\n",
       "      <th>runtime</th>\n",
       "      <th>spoken_languages</th>\n",
       "      <th>status</th>\n",
       "      <th>tagline</th>\n",
       "      <th>title</th>\n",
       "      <th>video</th>\n",
       "      <th>vote_average</th>\n",
       "      <th>vote_count</th>\n",
       "      <th>certification</th>\n",
       "    </tr>\n",
       "  </thead>\n",
       "  <tbody>\n",
       "    <tr>\n",
       "      <th>0</th>\n",
       "      <td>0</td>\n",
       "      <td>NaN</td>\n",
       "      <td>NaN</td>\n",
       "      <td>NaN</td>\n",
       "      <td>NaN</td>\n",
       "      <td>NaN</td>\n",
       "      <td>NaN</td>\n",
       "      <td>NaN</td>\n",
       "      <td>NaN</td>\n",
       "      <td>NaN</td>\n",
       "      <td>...</td>\n",
       "      <td>NaN</td>\n",
       "      <td>NaN</td>\n",
       "      <td>NaN</td>\n",
       "      <td>NaN</td>\n",
       "      <td>NaN</td>\n",
       "      <td>NaN</td>\n",
       "      <td>NaN</td>\n",
       "      <td>NaN</td>\n",
       "      <td>NaN</td>\n",
       "      <td>NaN</td>\n",
       "    </tr>\n",
       "    <tr>\n",
       "      <th>1</th>\n",
       "      <td>tt0035423</td>\n",
       "      <td>0.0</td>\n",
       "      <td>/hfeiSfWYujh6MKhtGTXyK3DD4nN.jpg</td>\n",
       "      <td>NaN</td>\n",
       "      <td>48000000.0</td>\n",
       "      <td>[{'id': 10749, 'name': 'Romance'}, {'id': 14, ...</td>\n",
       "      <td>NaN</td>\n",
       "      <td>11232.0</td>\n",
       "      <td>en</td>\n",
       "      <td>Kate &amp; Leopold</td>\n",
       "      <td>...</td>\n",
       "      <td>76019048.0</td>\n",
       "      <td>118.0</td>\n",
       "      <td>[{'english_name': 'English', 'iso_639_1': 'en'...</td>\n",
       "      <td>Released</td>\n",
       "      <td>If they lived in the same century, they'd be p...</td>\n",
       "      <td>Kate &amp; Leopold</td>\n",
       "      <td>0.0</td>\n",
       "      <td>6.321</td>\n",
       "      <td>1165.0</td>\n",
       "      <td>PG-13</td>\n",
       "    </tr>\n",
       "    <tr>\n",
       "      <th>2</th>\n",
       "      <td>tt0118589</td>\n",
       "      <td>0.0</td>\n",
       "      <td>/9NZAirJahVilTiDNCHLFcdkwkiy.jpg</td>\n",
       "      <td>NaN</td>\n",
       "      <td>22000000.0</td>\n",
       "      <td>[{'id': 18, 'name': 'Drama'}, {'id': 10402, 'n...</td>\n",
       "      <td>NaN</td>\n",
       "      <td>10696.0</td>\n",
       "      <td>en</td>\n",
       "      <td>Glitter</td>\n",
       "      <td>...</td>\n",
       "      <td>5271666.0</td>\n",
       "      <td>104.0</td>\n",
       "      <td>[{'english_name': 'English', 'iso_639_1': 'en'...</td>\n",
       "      <td>Released</td>\n",
       "      <td>In music she found her dream, her love, herself.</td>\n",
       "      <td>Glitter</td>\n",
       "      <td>0.0</td>\n",
       "      <td>4.596</td>\n",
       "      <td>120.0</td>\n",
       "      <td>PG-13</td>\n",
       "    </tr>\n",
       "    <tr>\n",
       "      <th>3</th>\n",
       "      <td>tt0118652</td>\n",
       "      <td>0.0</td>\n",
       "      <td>/mWxJEFRMvkG4UItYJkRDMgWQ08Y.jpg</td>\n",
       "      <td>NaN</td>\n",
       "      <td>1000000.0</td>\n",
       "      <td>[{'id': 27, 'name': 'Horror'}, {'id': 9648, 'n...</td>\n",
       "      <td>NaN</td>\n",
       "      <td>17140.0</td>\n",
       "      <td>en</td>\n",
       "      <td>The Attic Expeditions</td>\n",
       "      <td>...</td>\n",
       "      <td>0.0</td>\n",
       "      <td>100.0</td>\n",
       "      <td>[{'english_name': 'English', 'iso_639_1': 'en'...</td>\n",
       "      <td>Released</td>\n",
       "      <td>His search for peace of mind... will leave his...</td>\n",
       "      <td>The Attic Expeditions</td>\n",
       "      <td>0.0</td>\n",
       "      <td>5.100</td>\n",
       "      <td>28.0</td>\n",
       "      <td>R</td>\n",
       "    </tr>\n",
       "    <tr>\n",
       "      <th>4</th>\n",
       "      <td>tt0119004</td>\n",
       "      <td>0.0</td>\n",
       "      <td>/7xrlSPGDO4CDT6IHTctDlkYxTzw.jpg</td>\n",
       "      <td>NaN</td>\n",
       "      <td>0.0</td>\n",
       "      <td>[{'id': 18, 'name': 'Drama'}]</td>\n",
       "      <td>NaN</td>\n",
       "      <td>37857.0</td>\n",
       "      <td>en</td>\n",
       "      <td>Don's Plum</td>\n",
       "      <td>...</td>\n",
       "      <td>6297.0</td>\n",
       "      <td>89.0</td>\n",
       "      <td>[{'english_name': 'English', 'iso_639_1': 'en'...</td>\n",
       "      <td>Released</td>\n",
       "      <td>NaN</td>\n",
       "      <td>Don's Plum</td>\n",
       "      <td>0.0</td>\n",
       "      <td>5.423</td>\n",
       "      <td>65.0</td>\n",
       "      <td>NaN</td>\n",
       "    </tr>\n",
       "  </tbody>\n",
       "</table>\n",
       "<p>5 rows × 26 columns</p>\n",
       "</div>"
      ],
      "text/plain": [
       "     imdb_id  adult                     backdrop_path belongs_to_collection  \\\n",
       "0          0    NaN                               NaN                   NaN   \n",
       "1  tt0035423    0.0  /hfeiSfWYujh6MKhtGTXyK3DD4nN.jpg                   NaN   \n",
       "2  tt0118589    0.0  /9NZAirJahVilTiDNCHLFcdkwkiy.jpg                   NaN   \n",
       "3  tt0118652    0.0  /mWxJEFRMvkG4UItYJkRDMgWQ08Y.jpg                   NaN   \n",
       "4  tt0119004    0.0  /7xrlSPGDO4CDT6IHTctDlkYxTzw.jpg                   NaN   \n",
       "\n",
       "       budget                                             genres homepage  \\\n",
       "0         NaN                                                NaN      NaN   \n",
       "1  48000000.0  [{'id': 10749, 'name': 'Romance'}, {'id': 14, ...      NaN   \n",
       "2  22000000.0  [{'id': 18, 'name': 'Drama'}, {'id': 10402, 'n...      NaN   \n",
       "3   1000000.0  [{'id': 27, 'name': 'Horror'}, {'id': 9648, 'n...      NaN   \n",
       "4         0.0                      [{'id': 18, 'name': 'Drama'}]      NaN   \n",
       "\n",
       "        id original_language         original_title  ...     revenue  runtime  \\\n",
       "0      NaN               NaN                    NaN  ...         NaN      NaN   \n",
       "1  11232.0                en         Kate & Leopold  ...  76019048.0    118.0   \n",
       "2  10696.0                en                Glitter  ...   5271666.0    104.0   \n",
       "3  17140.0                en  The Attic Expeditions  ...         0.0    100.0   \n",
       "4  37857.0                en             Don's Plum  ...      6297.0     89.0   \n",
       "\n",
       "                                    spoken_languages    status  \\\n",
       "0                                                NaN       NaN   \n",
       "1  [{'english_name': 'English', 'iso_639_1': 'en'...  Released   \n",
       "2  [{'english_name': 'English', 'iso_639_1': 'en'...  Released   \n",
       "3  [{'english_name': 'English', 'iso_639_1': 'en'...  Released   \n",
       "4  [{'english_name': 'English', 'iso_639_1': 'en'...  Released   \n",
       "\n",
       "                                             tagline                  title  \\\n",
       "0                                                NaN                    NaN   \n",
       "1  If they lived in the same century, they'd be p...         Kate & Leopold   \n",
       "2   In music she found her dream, her love, herself.                Glitter   \n",
       "3  His search for peace of mind... will leave his...  The Attic Expeditions   \n",
       "4                                                NaN             Don's Plum   \n",
       "\n",
       "   video  vote_average vote_count certification  \n",
       "0    NaN           NaN        NaN           NaN  \n",
       "1    0.0         6.321     1165.0         PG-13  \n",
       "2    0.0         4.596      120.0         PG-13  \n",
       "3    0.0         5.100       28.0             R  \n",
       "4    0.0         5.423       65.0           NaN  \n",
       "\n",
       "[5 rows x 26 columns]"
      ]
     },
     "execution_count": 14,
     "metadata": {},
     "output_type": "execute_result"
    }
   ],
   "source": [
    "merged_df = pd.read_csv(\"Data/tmdb_results_combined.csv.gz\")\n",
    "merged_df.info()\n",
    "merged_df.head()"
   ]
  }
 ],
 "metadata": {
  "kernelspec": {
   "display_name": "Python (dojo-env)",
   "language": "python",
   "name": "dojo-env"
  },
  "language_info": {
   "codemirror_mode": {
    "name": "ipython",
    "version": 3
   },
   "file_extension": ".py",
   "mimetype": "text/x-python",
   "name": "python",
   "nbconvert_exporter": "python",
   "pygments_lexer": "ipython3",
   "version": "3.8.13"
  },
  "toc": {
   "base_numbering": 1,
   "nav_menu": {},
   "number_sections": false,
   "sideBar": true,
   "skip_h1_title": false,
   "title_cell": "Table of Contents",
   "title_sidebar": "Contents",
   "toc_cell": false,
   "toc_position": {},
   "toc_section_display": true,
   "toc_window_display": false
  }
 },
 "nbformat": 4,
 "nbformat_minor": 5
}
