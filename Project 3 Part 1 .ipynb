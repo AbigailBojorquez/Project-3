{
 "cells": [
  {
   "cell_type": "markdown",
   "id": "09333482",
   "metadata": {},
   "source": [
    "Imports "
   ]
  },
  {
   "cell_type": "code",
   "execution_count": 1,
   "id": "453d6757",
   "metadata": {},
   "outputs": [],
   "source": [
    "import pandas as pd \n",
    "import seaborn as sns\n",
    "import matplotlib.pyplot as plt\n",
    "import numpy as np"
   ]
  },
  {
   "cell_type": "code",
   "execution_count": 2,
   "id": "603d11f2",
   "metadata": {},
   "outputs": [],
   "source": [
    "basics_url=\"https://datasets.imdbws.com/title.basics.tsv.gz\"\n",
    "basics_url2=\"https://datasets.imdbws.com/title.akas.tsv.gz\"\n",
    "basics_url3=\"https://datasets.imdbws.com/title.ratings.tsv.gz\""
   ]
  },
  {
   "cell_type": "markdown",
   "id": "26bd4032",
   "metadata": {},
   "source": [
    "# Filtering/Coding AKAs"
   ]
  },
  {
   "cell_type": "code",
   "execution_count": 3,
   "id": "64b1950e",
   "metadata": {},
   "outputs": [],
   "source": [
    "akas = pd.read_csv(basics_url2, sep='\\t', low_memory=False)"
   ]
  },
  {
   "cell_type": "code",
   "execution_count": 4,
   "id": "0b4f38b2",
   "metadata": {},
   "outputs": [],
   "source": [
    "akas.replace({'\\\\N':np.nan}, inplace = True)"
   ]
  },
  {
   "cell_type": "code",
   "execution_count": 5,
   "id": "41d6c142",
   "metadata": {},
   "outputs": [],
   "source": [
    "akas = akas[akas['region']=='US']"
   ]
  },
  {
   "cell_type": "markdown",
   "id": "16ad6513",
   "metadata": {},
   "source": [
    "# Filtering/Cleaning Basics"
   ]
  },
  {
   "cell_type": "code",
   "execution_count": 6,
   "id": "7c433e9a",
   "metadata": {},
   "outputs": [],
   "source": [
    "basics = pd.read_csv(basics_url, sep='\\t', low_memory=False)"
   ]
  },
  {
   "cell_type": "code",
   "execution_count": 7,
   "id": "4bb60448",
   "metadata": {},
   "outputs": [],
   "source": [
    "basics.replace({'\\\\N':np.nan}, inplace = True)"
   ]
  },
  {
   "cell_type": "code",
   "execution_count": 8,
   "id": "2ac9aaa2",
   "metadata": {},
   "outputs": [],
   "source": [
    "basics = basics.dropna(subset=['runtimeMinutes', 'genres'])"
   ]
  },
  {
   "cell_type": "code",
   "execution_count": 9,
   "id": "58ab7148",
   "metadata": {},
   "outputs": [],
   "source": [
    "basics = basics[basics['titleType']== 'movie']"
   ]
  },
  {
   "cell_type": "code",
   "execution_count": 10,
   "id": "3f4373ed",
   "metadata": {},
   "outputs": [],
   "source": [
    "basics['startYear']= basics['startYear'].astype(float)"
   ]
  },
  {
   "cell_type": "code",
   "execution_count": 11,
   "id": "90d0ecc0",
   "metadata": {},
   "outputs": [],
   "source": [
    "filter1 = basics['startYear']>= 2000\n",
    "filter2 = basics['startYear']<=2022\n",
    "\n",
    "basics = basics[filter1 & filter2]"
   ]
  },
  {
   "cell_type": "code",
   "execution_count": 12,
   "id": "35175547",
   "metadata": {},
   "outputs": [],
   "source": [
    "# Exclude movies that are included in the documentary category.\n",
    "is_documentary = basics['genres'].str.contains('documentary',case=False)\n",
    "basics = basics[~is_documentary]"
   ]
  },
  {
   "cell_type": "code",
   "execution_count": 13,
   "id": "1640ab4c",
   "metadata": {},
   "outputs": [
    {
     "name": "stdout",
     "output_type": "stream",
     "text": [
      "<class 'pandas.core.frame.DataFrame'>\n",
      "Int64Index: 84581 entries, 34803 to 9514411\n",
      "Data columns (total 9 columns):\n",
      " #   Column          Non-Null Count  Dtype  \n",
      "---  ------          --------------  -----  \n",
      " 0   tconst          84581 non-null  object \n",
      " 1   titleType       84581 non-null  object \n",
      " 2   primaryTitle    84581 non-null  object \n",
      " 3   originalTitle   84581 non-null  object \n",
      " 4   isAdult         84581 non-null  object \n",
      " 5   startYear       84581 non-null  float64\n",
      " 6   endYear         0 non-null      object \n",
      " 7   runtimeMinutes  84581 non-null  object \n",
      " 8   genres          84581 non-null  object \n",
      "dtypes: float64(1), object(8)\n",
      "memory usage: 6.5+ MB\n"
     ]
    }
   ],
   "source": [
    "# Filter the basics table down to only include the US movies by using the filtered akas dataframe above\n",
    "keepers_basics = basics['tconst'].isin(akas['titleId'])\n",
    "basics = basics[keepers_basics]\n",
    "\n",
    "basics.info()"
   ]
  },
  {
   "cell_type": "markdown",
   "id": "20ef29b1",
   "metadata": {},
   "source": [
    "# Filtering/Cleaning Ratings"
   ]
  },
  {
   "cell_type": "code",
   "execution_count": 14,
   "id": "c84f548d",
   "metadata": {},
   "outputs": [],
   "source": [
    "ratings = pd.read_csv(basics_url3,  sep='\\t', low_memory=False)"
   ]
  },
  {
   "cell_type": "code",
   "execution_count": 15,
   "id": "618b3528",
   "metadata": {},
   "outputs": [],
   "source": [
    "ratings.replace({'\\\\N':np.nan}, inplace = True)"
   ]
  },
  {
   "cell_type": "code",
   "execution_count": 16,
   "id": "06de621a",
   "metadata": {},
   "outputs": [
    {
     "name": "stdout",
     "output_type": "stream",
     "text": [
      "<class 'pandas.core.frame.DataFrame'>\n",
      "Int64Index: 484321 entries, 0 to 1265771\n",
      "Data columns (total 3 columns):\n",
      " #   Column         Non-Null Count   Dtype  \n",
      "---  ------         --------------   -----  \n",
      " 0   tconst         484321 non-null  object \n",
      " 1   averageRating  484321 non-null  float64\n",
      " 2   numVotes       484321 non-null  int64  \n",
      "dtypes: float64(1), int64(1), object(1)\n",
      "memory usage: 14.8+ MB\n"
     ]
    }
   ],
   "source": [
    "# Filter the basics table down to only include the US movies by using the filtered akas dataframe above\n",
    "keepers_ratings = ratings['tconst'].isin(akas['titleId'])\n",
    "ratings = ratings[keepers_ratings]\n",
    "\n",
    "ratings.info()"
   ]
  },
  {
   "cell_type": "code",
   "execution_count": 17,
   "id": "b7412f3c",
   "metadata": {},
   "outputs": [
    {
     "name": "stdout",
     "output_type": "stream",
     "text": [
      "Done!\n"
     ]
    }
   ],
   "source": [
    "# Save current dataframes to files.\n",
    "basics.to_csv(\"Data/title_basics.csv.gz\",compression='gzip',index=False)\n",
    "akas.to_csv(\"Data/title_akas.csv.gz\",compression='gzip',index=False)\n",
    "ratings.to_csv(\"Data/title_ratings.csv.gz\",compression='gzip',index=False)\n",
    "print(\"Done!\")"
   ]
  }
 ],
 "metadata": {
  "kernelspec": {
   "display_name": "Python (dojo-env)",
   "language": "python",
   "name": "dojo-env"
  },
  "language_info": {
   "codemirror_mode": {
    "name": "ipython",
    "version": 3
   },
   "file_extension": ".py",
   "mimetype": "text/x-python",
   "name": "python",
   "nbconvert_exporter": "python",
   "pygments_lexer": "ipython3",
   "version": "3.8.13"
  },
  "toc": {
   "base_numbering": 1,
   "nav_menu": {},
   "number_sections": false,
   "sideBar": true,
   "skip_h1_title": false,
   "title_cell": "Table of Contents",
   "title_sidebar": "Contents",
   "toc_cell": false,
   "toc_position": {},
   "toc_section_display": true,
   "toc_window_display": false
  }
 },
 "nbformat": 4,
 "nbformat_minor": 5
}
