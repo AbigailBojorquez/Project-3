{
 "cells": [
  {
   "cell_type": "markdown",
   "id": "09333482",
   "metadata": {},
   "source": [
    "Imports "
   ]
  },
  {
   "cell_type": "code",
   "execution_count": 36,
   "id": "453d6757",
   "metadata": {},
   "outputs": [],
   "source": [
    "import pandas as pd \n",
    "import seaborn as sns\n",
    "import matplotlib.pyplot as plt\n",
    "import numpy as np"
   ]
  },
  {
   "cell_type": "code",
   "execution_count": 37,
   "id": "603d11f2",
   "metadata": {},
   "outputs": [],
   "source": [
    "basics_url=\"https://datasets.imdbws.com/title.basics.tsv.gz\"\n",
    "basics_url2=\"https://datasets.imdbws.com/title.akas.tsv.gz\"\n",
    "basics_url3=\"https://datasets.imdbws.com/title.ratings.tsv.gz\""
   ]
  },
  {
   "cell_type": "markdown",
   "id": "d799898b",
   "metadata": {},
   "source": [
    "# Filtering/Coding AKAs"
   ]
  },
  {
   "cell_type": "code",
   "execution_count": null,
   "id": "782a4c00",
   "metadata": {},
   "outputs": [],
   "source": [
    "akas = pd.read_csv(basics_url2, sep='\\t', low_memory=False)"
   ]
  },
  {
   "cell_type": "code",
   "execution_count": null,
   "id": "a98f6a8c",
   "metadata": {},
   "outputs": [],
   "source": [
    "akas.replace({'\\\\N':np.nan}, inplace = True)"
   ]
  },
  {
   "cell_type": "code",
   "execution_count": null,
   "id": "5cf41686",
   "metadata": {},
   "outputs": [],
   "source": [
    "akas = akas[akas['region']=='US']"
   ]
  },
  {
   "cell_type": "markdown",
   "id": "ce6e71cb",
   "metadata": {},
   "source": [
    "# Filtering/Cleaning Basics"
   ]
  },
  {
   "cell_type": "code",
   "execution_count": null,
   "id": "39eadcd5",
   "metadata": {},
   "outputs": [],
   "source": [
    "basics = pd.read_csv(basics_url, sep='\\t', low_memory=False)"
   ]
  },
  {
   "cell_type": "code",
   "execution_count": null,
   "id": "63200004",
   "metadata": {},
   "outputs": [],
   "source": [
    "basics.replace({'\\\\N':np.nan}, inplace = True)"
   ]
  },
  {
   "cell_type": "code",
   "execution_count": null,
   "id": "ab682c01",
   "metadata": {},
   "outputs": [],
   "source": [
    "basics = basics.dropna(subset=['runtimeMinutes', 'genres'])"
   ]
  },
  {
   "cell_type": "code",
   "execution_count": null,
   "id": "d31742bf",
   "metadata": {},
   "outputs": [],
   "source": [
    "basics = basics[basics['titleType']== 'Movie']"
   ]
  },
  {
   "cell_type": "code",
   "execution_count": null,
   "id": "f8a305c3",
   "metadata": {},
   "outputs": [],
   "source": [
    "filter1 = basics['startYear']>= 2000\n",
    "filter2 = basics['startYear']<=2022\n",
    "\n",
    "basics = basics[filter1 & filter2]"
   ]
  },
  {
   "cell_type": "code",
   "execution_count": null,
   "id": "ddd4483f",
   "metadata": {},
   "outputs": [],
   "source": [
    "# Exclude movies that are included in the documentary category.\n",
    "is_documentary = basics['genres'].str.contains('documentary',case=False)\n",
    "basics = basics[~is_documentary]"
   ]
  },
  {
   "cell_type": "code",
   "execution_count": null,
   "id": "99097c38",
   "metadata": {},
   "outputs": [],
   "source": [
    "# Filter the basics table down to only include the US movies by using the filtered akas dataframe above\n",
    "keepers_basics = basics['tconst'].isin(akas['titleId'])\n",
    "basics = basics[keepers_basics]\n",
    "\n",
    "basics.info()"
   ]
  },
  {
   "cell_type": "markdown",
   "id": "1a91ef93",
   "metadata": {},
   "source": [
    "# Filtering/Cleaning Ratings"
   ]
  },
  {
   "cell_type": "code",
   "execution_count": null,
   "id": "791dce30",
   "metadata": {},
   "outputs": [],
   "source": [
    "ratings = pd.read_csv(basics_url3,  sep='\\t', low_memory=False)"
   ]
  },
  {
   "cell_type": "code",
   "execution_count": null,
   "id": "618b3528",
   "metadata": {},
   "outputs": [],
   "source": [
    "ratings.replace({'\\\\N':np.nan}, inplace = True)"
   ]
  },
  {
   "cell_type": "code",
   "execution_count": null,
   "id": "5a18a951",
   "metadata": {},
   "outputs": [],
   "source": [
    "# Filter the basics table down to only include the US movies by using the filtered akas dataframe above\n",
    "keepers_ratings = ratings['tconst'].isin(akas['titleId'])\n",
    "ratings = ratings[keepers_ratings]\n",
    "\n",
    "ratings.info()"
   ]
  },
  {
   "cell_type": "code",
   "execution_count": null,
   "id": "b7412f3c",
   "metadata": {},
   "outputs": [],
   "source": [
    "# Save current dataframes to files.\n",
    "basics.to_csv(\"Data/title_basics.csv.gz\",compression='gzip',index=False)\n",
    "akas.to_csv(\"Data/title_akas.csv.gz\",compression='gzip',index=False)\n",
    "ratings.to_csv(\"Data/title_ratings.csv.gz\",compression='gzip',index=False)\n",
    "print(\"Done!\")"
   ]
  }
 ],
 "metadata": {
  "kernelspec": {
   "display_name": "Python (dojo-env)",
   "language": "python",
   "name": "dojo-env"
  },
  "language_info": {
   "codemirror_mode": {
    "name": "ipython",
    "version": 3
   },
   "file_extension": ".py",
   "mimetype": "text/x-python",
   "name": "python",
   "nbconvert_exporter": "python",
   "pygments_lexer": "ipython3",
   "version": "3.8.13"
  },
  "toc": {
   "base_numbering": 1,
   "nav_menu": {},
   "number_sections": false,
   "sideBar": true,
   "skip_h1_title": false,
   "title_cell": "Table of Contents",
   "title_sidebar": "Contents",
   "toc_cell": false,
   "toc_position": {},
   "toc_section_display": true,
   "toc_window_display": false
  }
 },
 "nbformat": 4,
 "nbformat_minor": 5
}
